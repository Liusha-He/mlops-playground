{
 "cells": [
  {
   "cell_type": "code",
   "execution_count": 7,
   "id": "076117ca",
   "metadata": {},
   "outputs": [],
   "source": [
    "import yfinance as yf\n",
    "import pandas as pd\n",
    "import numpy as np\n",
    "import bt\n",
    "import matplotlib.pyplot as plt"
   ]
  },
  {
   "cell_type": "code",
   "execution_count": 2,
   "id": "5827446a",
   "metadata": {},
   "outputs": [],
   "source": [
    "data = bt.get(\"msft, amzn, goog\", start=\"2021-6-1\", end=\"2022-5-11\")"
   ]
  },
  {
   "cell_type": "code",
   "execution_count": 3,
   "id": "3c9dde4f",
   "metadata": {},
   "outputs": [
    {
     "data": {
      "text/html": [
       "<div>\n",
       "<style scoped>\n",
       "    .dataframe tbody tr th:only-of-type {\n",
       "        vertical-align: middle;\n",
       "    }\n",
       "\n",
       "    .dataframe tbody tr th {\n",
       "        vertical-align: top;\n",
       "    }\n",
       "\n",
       "    .dataframe thead th {\n",
       "        text-align: right;\n",
       "    }\n",
       "</style>\n",
       "<table border=\"1\" class=\"dataframe\">\n",
       "  <thead>\n",
       "    <tr style=\"text-align: right;\">\n",
       "      <th></th>\n",
       "      <th>msft</th>\n",
       "      <th>amzn</th>\n",
       "      <th>goog</th>\n",
       "    </tr>\n",
       "    <tr>\n",
       "      <th>Date</th>\n",
       "      <th></th>\n",
       "      <th></th>\n",
       "      <th></th>\n",
       "    </tr>\n",
       "  </thead>\n",
       "  <tbody>\n",
       "    <tr>\n",
       "      <th>2021-06-01</th>\n",
       "      <td>245.967743</td>\n",
       "      <td>3218.649902</td>\n",
       "      <td>2429.810059</td>\n",
       "    </tr>\n",
       "    <tr>\n",
       "      <th>2021-06-02</th>\n",
       "      <td>245.868347</td>\n",
       "      <td>3233.989990</td>\n",
       "      <td>2421.280029</td>\n",
       "    </tr>\n",
       "    <tr>\n",
       "      <th>2021-06-03</th>\n",
       "      <td>244.287552</td>\n",
       "      <td>3187.010010</td>\n",
       "      <td>2404.610107</td>\n",
       "    </tr>\n",
       "    <tr>\n",
       "      <th>2021-06-04</th>\n",
       "      <td>249.338120</td>\n",
       "      <td>3206.219971</td>\n",
       "      <td>2451.760010</td>\n",
       "    </tr>\n",
       "    <tr>\n",
       "      <th>2021-06-07</th>\n",
       "      <td>252.340652</td>\n",
       "      <td>3198.010010</td>\n",
       "      <td>2466.090088</td>\n",
       "    </tr>\n",
       "    <tr>\n",
       "      <th>2021-06-08</th>\n",
       "      <td>251.107834</td>\n",
       "      <td>3264.110107</td>\n",
       "      <td>2482.850098</td>\n",
       "    </tr>\n",
       "    <tr>\n",
       "      <th>2021-06-09</th>\n",
       "      <td>252.121918</td>\n",
       "      <td>3281.149902</td>\n",
       "      <td>2491.399902</td>\n",
       "    </tr>\n",
       "    <tr>\n",
       "      <th>2021-06-10</th>\n",
       "      <td>255.750778</td>\n",
       "      <td>3349.649902</td>\n",
       "      <td>2521.600098</td>\n",
       "    </tr>\n",
       "    <tr>\n",
       "      <th>2021-06-11</th>\n",
       "      <td>256.397064</td>\n",
       "      <td>3346.830078</td>\n",
       "      <td>2513.929932</td>\n",
       "    </tr>\n",
       "    <tr>\n",
       "      <th>2021-06-14</th>\n",
       "      <td>258.385468</td>\n",
       "      <td>3383.870117</td>\n",
       "      <td>2527.040039</td>\n",
       "    </tr>\n",
       "    <tr>\n",
       "      <th>2021-06-15</th>\n",
       "      <td>256.864319</td>\n",
       "      <td>3383.129883</td>\n",
       "      <td>2520.659912</td>\n",
       "    </tr>\n",
       "    <tr>\n",
       "      <th>2021-06-16</th>\n",
       "      <td>255.889969</td>\n",
       "      <td>3415.250000</td>\n",
       "      <td>2513.929932</td>\n",
       "    </tr>\n",
       "    <tr>\n",
       "      <th>2021-06-17</th>\n",
       "      <td>259.389587</td>\n",
       "      <td>3489.239990</td>\n",
       "      <td>2527.419922</td>\n",
       "    </tr>\n",
       "    <tr>\n",
       "      <th>2021-06-18</th>\n",
       "      <td>257.928131</td>\n",
       "      <td>3486.899902</td>\n",
       "      <td>2511.350098</td>\n",
       "    </tr>\n",
       "    <tr>\n",
       "      <th>2021-06-21</th>\n",
       "      <td>261.109589</td>\n",
       "      <td>3453.959961</td>\n",
       "      <td>2529.100098</td>\n",
       "    </tr>\n",
       "  </tbody>\n",
       "</table>\n",
       "</div>"
      ],
      "text/plain": [
       "                  msft         amzn         goog\n",
       "Date                                            \n",
       "2021-06-01  245.967743  3218.649902  2429.810059\n",
       "2021-06-02  245.868347  3233.989990  2421.280029\n",
       "2021-06-03  244.287552  3187.010010  2404.610107\n",
       "2021-06-04  249.338120  3206.219971  2451.760010\n",
       "2021-06-07  252.340652  3198.010010  2466.090088\n",
       "2021-06-08  251.107834  3264.110107  2482.850098\n",
       "2021-06-09  252.121918  3281.149902  2491.399902\n",
       "2021-06-10  255.750778  3349.649902  2521.600098\n",
       "2021-06-11  256.397064  3346.830078  2513.929932\n",
       "2021-06-14  258.385468  3383.870117  2527.040039\n",
       "2021-06-15  256.864319  3383.129883  2520.659912\n",
       "2021-06-16  255.889969  3415.250000  2513.929932\n",
       "2021-06-17  259.389587  3489.239990  2527.419922\n",
       "2021-06-18  257.928131  3486.899902  2511.350098\n",
       "2021-06-21  261.109589  3453.959961  2529.100098"
      ]
     },
     "execution_count": 3,
     "metadata": {},
     "output_type": "execute_result"
    }
   ],
   "source": [
    "data.head(15)"
   ]
  },
  {
   "cell_type": "markdown",
   "id": "7a3b40b7",
   "metadata": {},
   "source": [
    "# Define Strategy"
   ]
  },
  {
   "cell_type": "code",
   "execution_count": 12,
   "id": "68b24aed",
   "metadata": {},
   "outputs": [],
   "source": [
    "algos_weekly = [\n",
    "    bt.algos.RunWeekly(),\n",
    "    bt.algos.SelectAll(),\n",
    "    bt.algos.WeighEqually(),\n",
    "    bt.algos.Rebalance()\n",
    "]\n",
    "strategy = bt.Strategy(\"Trade_Weekly\", algos_weekly)"
   ]
  },
  {
   "cell_type": "markdown",
   "id": "242ac3d9",
   "metadata": {},
   "source": [
    "# Perform Backtest"
   ]
  },
  {
   "cell_type": "code",
   "execution_count": 13,
   "id": "74e0c679",
   "metadata": {},
   "outputs": [],
   "source": [
    "backtester = bt.Backtest(strategy, data)\n",
    "res = bt.run(backtester)"
   ]
  },
  {
   "cell_type": "markdown",
   "id": "857d46e7",
   "metadata": {},
   "source": [
    "# Evaluate Result"
   ]
  },
  {
   "cell_type": "code",
   "execution_count": 14,
   "id": "b17d5ade",
   "metadata": {},
   "outputs": [
    {
     "data": {
      "image/png": "[encoded data removed]",
      "text/plain": [
       "<Figure size 1080x360 with 1 Axes>"
      ]
     },
     "metadata": {
      "needs_background": "light"
     },
     "output_type": "display_data"
    }
   ],
   "source": [
    "res.plot(title=\"BackTest Result\")\n",
    "plt.show()"
   ]
  },
  {
   "cell_type": "code",
   "execution_count": 15,
   "id": "60b16821",
   "metadata": {},
   "outputs": [
    {
     "data": {
      "text/html": [
       "<div>\n",
       "<style scoped>\n",
       "    .dataframe tbody tr th:only-of-type {\n",
       "        vertical-align: middle;\n",
       "    }\n",
       "\n",
       "    .dataframe tbody tr th {\n",
       "        vertical-align: top;\n",
       "    }\n",
       "\n",
       "    .dataframe thead th {\n",
       "        text-align: right;\n",
       "    }\n",
       "</style>\n",
       "<table border=\"1\" class=\"dataframe\">\n",
       "  <thead>\n",
       "    <tr style=\"text-align: right;\">\n",
       "      <th></th>\n",
       "      <th></th>\n",
       "      <th>price</th>\n",
       "      <th>quantity</th>\n",
       "    </tr>\n",
       "    <tr>\n",
       "      <th>Date</th>\n",
       "      <th>Security</th>\n",
       "      <th></th>\n",
       "      <th></th>\n",
       "    </tr>\n",
       "  </thead>\n",
       "  <tbody>\n",
       "    <tr>\n",
       "      <th rowspan=\"3\" valign=\"top\">2021-06-01</th>\n",
       "      <th>amzn</th>\n",
       "      <td>3218.649902</td>\n",
       "      <td>103.0</td>\n",
       "    </tr>\n",
       "    <tr>\n",
       "      <th>goog</th>\n",
       "      <td>2429.810059</td>\n",
       "      <td>137.0</td>\n",
       "    </tr>\n",
       "    <tr>\n",
       "      <th>msft</th>\n",
       "      <td>245.967743</td>\n",
       "      <td>1355.0</td>\n",
       "    </tr>\n",
       "    <tr>\n",
       "      <th rowspan=\"2\" valign=\"top\">2021-06-07</th>\n",
       "      <th>amzn</th>\n",
       "      <td>3198.010010</td>\n",
       "      <td>2.0</td>\n",
       "    </tr>\n",
       "    <tr>\n",
       "      <th>goog</th>\n",
       "      <td>2466.090088</td>\n",
       "      <td>-1.0</td>\n",
       "    </tr>\n",
       "    <tr>\n",
       "      <th>...</th>\n",
       "      <th>...</th>\n",
       "      <td>...</td>\n",
       "      <td>...</td>\n",
       "    </tr>\n",
       "    <tr>\n",
       "      <th rowspan=\"2\" valign=\"top\">2022-05-02</th>\n",
       "      <th>goog</th>\n",
       "      <td>2343.139893</td>\n",
       "      <td>-2.0</td>\n",
       "    </tr>\n",
       "    <tr>\n",
       "      <th>msft</th>\n",
       "      <td>284.470001</td>\n",
       "      <td>-89.0</td>\n",
       "    </tr>\n",
       "    <tr>\n",
       "      <th rowspan=\"3\" valign=\"top\">2022-05-09</th>\n",
       "      <th>amzn</th>\n",
       "      <td>2175.780029</td>\n",
       "      <td>7.0</td>\n",
       "    </tr>\n",
       "    <tr>\n",
       "      <th>goog</th>\n",
       "      <td>2261.679932</td>\n",
       "      <td>-6.0</td>\n",
       "    </tr>\n",
       "    <tr>\n",
       "      <th>msft</th>\n",
       "      <td>264.579987</td>\n",
       "      <td>-8.0</td>\n",
       "    </tr>\n",
       "  </tbody>\n",
       "</table>\n",
       "<p>127 rows × 2 columns</p>\n",
       "</div>"
      ],
      "text/plain": [
       "                           price  quantity\n",
       "Date       Security                       \n",
       "2021-06-01 amzn      3218.649902     103.0\n",
       "           goog      2429.810059     137.0\n",
       "           msft       245.967743    1355.0\n",
       "2021-06-07 amzn      3198.010010       2.0\n",
       "           goog      2466.090088      -1.0\n",
       "...                          ...       ...\n",
       "2022-05-02 goog      2343.139893      -2.0\n",
       "           msft       284.470001     -89.0\n",
       "2022-05-09 amzn      2175.780029       7.0\n",
       "           goog      2261.679932      -6.0\n",
       "           msft       264.579987      -8.0\n",
       "\n",
       "[127 rows x 2 columns]"
      ]
     },
     "execution_count": 15,
     "metadata": {},
     "output_type": "execute_result"
    }
   ],
   "source": [
    "res.get_transactions()"
   ]
  },
  {
   "cell_type": "code",
   "execution_count": null,
   "id": "15f88449",
   "metadata": {},
   "outputs": [],
   "source": []
  }
 ],
 "metadata": {
  "kernelspec": {
   "display_name": "Python 3 (ipykernel)",
   "language": "python",
   "name": "python3"
  },
  "language_info": {
   "codemirror_mode": {
    "name": "ipython",
    "version": 3
   },
   "file_extension": ".py",
   "mimetype": "text/x-python",
   "name": "python",
   "nbconvert_exporter": "python",
   "pygments_lexer": "ipython3",
   "version": "3.8.10"
  }
 },
 "nbformat": 4,
 "nbformat_minor": 5
}
