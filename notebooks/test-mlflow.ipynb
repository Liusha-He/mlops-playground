{
 "cells": [
  {
   "cell_type": "code",
   "execution_count": 1,
   "id": "a1b28e0c-8e67-45ca-b7c2-458e977cbe65",
   "metadata": {},
   "outputs": [],
   "source": [
    "import time\n",
    "from datetime import datetime\n",
    "\n",
    "import mlflow\n",
    "import requests\n",
    "from sklearn.datasets import load_iris\n",
    "from sklearn.ensemble import RandomForestClassifier\n",
    "from sklearn.metrics import accuracy_score, precision_score, recall_score, f1_score\n",
    "from sklearn.model_selection import train_test_split"
   ]
  },
  {
   "cell_type": "code",
   "execution_count": 2,
   "id": "82521e0e-1ac1-4af4-975b-c17696e9a31b",
   "metadata": {},
   "outputs": [],
   "source": [
    "MLFLOW_API_URI = \"http://localhost:5000/api/2.0\"\n",
    "ARTIFACT_ID = datetime.now().strftime(\"%Y-%m-%d_%H:%M:%S\")\n",
    "MODEL_NAME = \"test-1\""
   ]
  },
  {
   "cell_type": "code",
   "execution_count": 3,
   "id": "c35f7a00-d2bb-4fd3-89e7-92d534fd49e7",
   "metadata": {},
   "outputs": [],
   "source": [
    "def create_or_get_experiment():\n",
    "    try:\n",
    "        experiment_id = mlflow.create_experiment(name=MODEL_NAME)\n",
    "    except:\n",
    "        experiment = mlflow.get_experiment_by_name(name=MODEL_NAME)\n",
    "        print(experiment)\n",
    "        experiment_id = experiment.experiment_id\n",
    "    mlflow.set_experiment(experiment_id=experiment_id)\n",
    "    return experiment_id"
   ]
  },
  {
   "cell_type": "code",
   "execution_count": 4,
   "id": "37ed2ee8-454f-461e-a5f5-1e5896ce7608",
   "metadata": {},
   "outputs": [],
   "source": [
    "n_estimators = 100\n",
    "max_depth = 5"
   ]
  },
  {
   "cell_type": "code",
   "execution_count": 5,
   "id": "3935f277-7126-49ed-8235-dba1b398ab3c",
   "metadata": {},
   "outputs": [],
   "source": [
    "mlflow.set_tracking_uri(\"http://localhost:5000\")"
   ]
  },
  {
   "cell_type": "code",
   "execution_count": 6,
   "id": "8adefae5-5563-417e-bd79-2ce8d1f478bc",
   "metadata": {},
   "outputs": [
    {
     "name": "stdout",
     "output_type": "stream",
     "text": [
      "<Experiment: artifact_location='/home/lhe/mlops/registry/artifacts/6', creation_time=1724265284866, experiment_id='6', last_update_time=1724265284866, lifecycle_stage='active', name='test-1', tags={}>\n"
     ]
    }
   ],
   "source": [
    "experiment_id = create_or_get_experiment()"
   ]
  },
  {
   "cell_type": "code",
   "execution_count": 7,
   "id": "0fd335f1-de4f-489a-a208-29441e2d2559",
   "metadata": {},
   "outputs": [
    {
     "name": "stderr",
     "output_type": "stream",
     "text": [
      "2024/08/21 22:22:15 WARNING mlflow.models.model: Input example should be provided to infer model signature if the model signature is not provided when logging the model.\n",
      "2024/08/21 22:22:15 INFO mlflow.tracking._tracking_service.client: 🏃 View run loud-hawk-739 at: http://localhost:5000/#/experiments/6/runs/ab7942dcc5ad42ff9d37475dcd9deaa3.\n",
      "2024/08/21 22:22:15 INFO mlflow.tracking._tracking_service.client: 🧪 View experiment at: http://localhost:5000/#/experiments/6.\n"
     ]
    },
    {
     "name": "stdout",
     "output_type": "stream",
     "text": [
      "Run ID: ab7942dcc5ad42ff9d37475dcd9deaa3\n",
      "Accuracy: 1.0000\n",
      "Precision: 1.0000\n",
      "Recall: 1.0000\n",
      "F1 Score: 1.0000\n",
      "{'info': {'artifact_uri': '/home/lhe/mlops/registry/artifacts/6/ab7942dcc5ad42ff9d37475dcd9deaa3/artifacts', 'end_time': 1724275335012, 'experiment_id': '6', 'lifecycle_stage': 'active', 'run_id': 'ab7942dcc5ad42ff9d37475dcd9deaa3', 'run_name': 'loud-hawk-739', 'run_uuid': 'ab7942dcc5ad42ff9d37475dcd9deaa3', 'start_time': 1724275332360, 'status': 'FINISHED', 'user_id': 'lhe'}, 'data': {'metrics': {'accuracy': 1.0, 'precision': 1.0, 'recall': 1.0, 'f1_score': 1.0}, 'params': {'n_estimators': '100', 'max_depth': '5'}, 'tags': {'mlflow.user': 'lhe', 'mlflow.source.name': '/home/lhe/venv/mlops-demo/lib/python3.10/site-packages/ipykernel_launcher.py', 'mlflow.source.type': 'LOCAL', 'mlflow.runName': 'loud-hawk-739', 'mlflow.log-model.history': '[{\"run_id\": \"ab7942dcc5ad42ff9d37475dcd9deaa3\", \"artifact_path\": \"model\", \"utc_time_created\": \"2024-08-21 21:22:12.563545\", \"flavors\": {\"python_function\": {\"model_path\": \"model.pkl\", \"predict_fn\": \"predict\", \"loader_module\": \"mlflow.sklearn\", \"python_version\": \"3.10.11\", \"env\": {\"conda\": \"conda.yaml\", \"virtualenv\": \"python_env.yaml\"}}, \"sklearn\": {\"pickled_model\": \"model.pkl\", \"sklearn_version\": \"1.5.1\", \"serialization_format\": \"cloudpickle\", \"code\": null}}, \"model_uuid\": \"b9591ccdac2f4d0d9bbf1e414cfae65b\", \"mlflow_version\": \"2.15.1\", \"model_size_bytes\": 165890}]'}}, 'inputs': {'dataset_inputs': []}}\n"
     ]
    }
   ],
   "source": [
    "with mlflow.start_run() as run:\n",
    "    iris = load_iris()\n",
    "    X, y = iris.data, iris.target\n",
    "\n",
    "    X_train, X_test, y_train, y_test = train_test_split(X, y,\n",
    "                                                        test_size=0.2,\n",
    "                                                        random_state=42)\n",
    "    mlflow.log_param(\"n_estimators\", n_estimators)\n",
    "    mlflow.log_param(\"max_depth\", max_depth)\n",
    "\n",
    "    # Train the model\n",
    "    rf = RandomForestClassifier(n_estimators=n_estimators, max_depth=max_depth, random_state=42)\n",
    "    rf.fit(X_train, y_train)\n",
    "\n",
    "    y_pred = rf.predict(X_test)\n",
    "\n",
    "    accuracy = accuracy_score(y_test, y_pred)\n",
    "    precision = precision_score(y_test, y_pred, average='weighted')\n",
    "    recall = recall_score(y_test, y_pred, average='weighted')\n",
    "    f1 = f1_score(y_test, y_pred, average='weighted')\n",
    "\n",
    "    # Log metrics\n",
    "    mlflow.log_metric(\"accuracy\", accuracy)\n",
    "    mlflow.log_metric(\"precision\", precision)\n",
    "    mlflow.log_metric(\"recall\", recall)\n",
    "    mlflow.log_metric(\"f1_score\", f1)\n",
    "\n",
    "    mlflow.sklearn.log_model(rf, \"model\")\n",
    "    mlflow.log_artifact(\"serving_input_payload.json\",\n",
    "                        artifact_path=\"model\")\n",
    "\n",
    "    # Print the results\n",
    "    print(f\"Run ID: {run.info.run_id}\")\n",
    "    print(f\"Accuracy: {accuracy:.4f}\")\n",
    "    print(f\"Precision: {precision:.4f}\")\n",
    "    print(f\"Recall: {recall:.4f}\")\n",
    "    print(f\"F1 Score: {f1:.4f}\")\n",
    "\n",
    "print(mlflow.get_run(run.info.run_id).to_dictionary())"
   ]
  }
 ],
 "metadata": {
  "kernelspec": {
   "display_name": "Python 3 (ipykernel)",
   "language": "python",
   "name": "python3"
  },
  "language_info": {
   "codemirror_mode": {
    "name": "ipython",
    "version": 3
   },
   "file_extension": ".py",
   "mimetype": "text/x-python",
   "name": "python",
   "nbconvert_exporter": "python",
   "pygments_lexer": "ipython3",
   "version": "3.10.11"
  }
 },
 "nbformat": 4,
 "nbformat_minor": 5
}
