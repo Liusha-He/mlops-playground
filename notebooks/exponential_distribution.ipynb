{
 "cells": [
  {
   "cell_type": "code",
   "execution_count": 1,
   "id": "6edd1eec",
   "metadata": {},
   "outputs": [],
   "source": [
    "from typing import Union\n",
    "\n",
    "import numpy as np\n",
    "from scipy.special import factorial"
   ]
  },
  {
   "cell_type": "code",
   "execution_count": 2,
   "id": "e1d35169",
   "metadata": {},
   "outputs": [],
   "source": [
    "def calculate_po(lam: int, y: Union[int, np.ndarray]) -> float:\n",
    "    return (lam ** y * np.exp(-lam)) / factorial(y)\n",
    "\n",
    "\n",
    "def expected_po(lam: int, y: int) -> float:\n",
    "    ys = np.arange(y + 1)\n",
    "\n",
    "    return (ys * calculate_po(lam, ys)).sum()"
   ]
  },
  {
   "cell_type": "code",
   "execution_count": 3,
   "id": "fbdd3361",
   "metadata": {},
   "outputs": [
    {
     "data": {
      "text/plain": [
       "2.718281828459045"
      ]
     },
     "execution_count": 3,
     "metadata": {},
     "output_type": "execute_result"
    }
   ],
   "source": [
    "np.exp(1)"
   ]
  },
  {
   "cell_type": "code",
   "execution_count": 4,
   "id": "e516dc64",
   "metadata": {},
   "outputs": [
    {
     "data": {
      "text/plain": [
       "0.06"
      ]
     },
     "execution_count": 4,
     "metadata": {},
     "output_type": "execute_result"
    }
   ],
   "source": [
    "round(calculate_po(4, 7), 2)"
   ]
  },
  {
   "cell_type": "code",
   "execution_count": 5,
   "id": "dfad57e4",
   "metadata": {},
   "outputs": [
    {
     "data": {
      "text/plain": [
       "3.56"
      ]
     },
     "execution_count": 5,
     "metadata": {},
     "output_type": "execute_result"
    }
   ],
   "source": [
    "round(expected_po(4, 7), 2)"
   ]
  },
  {
   "cell_type": "code",
   "execution_count": null,
   "id": "416b2004",
   "metadata": {},
   "outputs": [],
   "source": []
  }
 ],
 "metadata": {
  "kernelspec": {
   "display_name": "Python 3 (ipykernel)",
   "language": "python",
   "name": "python3"
  },
  "language_info": {
   "codemirror_mode": {
    "name": "ipython",
    "version": 3
   },
   "file_extension": ".py",
   "mimetype": "text/x-python",
   "name": "python",
   "nbconvert_exporter": "python",
   "pygments_lexer": "ipython3",
   "version": "3.10.3"
  }
 },
 "nbformat": 4,
 "nbformat_minor": 5
}
